{
 "cells": [
  {
   "cell_type": "markdown",
   "id": "2f82d1ca",
   "metadata": {},
   "source": [
    "from: https://github.com/kvgarimella/botorch-tutorial/blob/main/simple-botorch-tutorial.ipynb"
   ]
  },
  {
   "cell_type": "code",
   "execution_count": 6,
   "id": "2e4962a1",
   "metadata": {},
   "outputs": [],
   "source": [
    "import torch\n",
    "import numpy as np\n",
    "from tqdm import tqdm\n",
    "\n",
    "from botorch.fit import fit_gpytorch_model\n",
    "from botorch.models import SingleTaskGP\n",
    "from gpytorch.mlls import ExactMarginalLogLikelihood\n",
    "from botorch.optim import optimize_acqf\n",
    "from botorch.acquisition import ExpectedImprovement, UpperConfidenceBound\n",
    "\n",
    "\n",
    "import matplotlib.pyplot as plt\n",
    "# import jtplot submodule from jupyterthemes\n",
    "from jupyterthemes import jtplot\n",
    "\n",
    "# currently installed theme will be used to\n",
    "# set plot style if no arguments provided\n",
    "jtplot.style()\n"
   ]
  },
  {
   "cell_type": "markdown",
   "id": "815c71aa",
   "metadata": {},
   "source": [
    "### Fit GP model to dataset\n",
    "The following function (get_model) fits a Gaussian Process to a set of observations."
   ]
  },
  {
   "cell_type": "code",
   "execution_count": 2,
   "id": "8e0b0fd2",
   "metadata": {},
   "outputs": [],
   "source": [
    "## build GP model\n",
    "## initialize a GP with data\n",
    "## use likelihood to find GP params\n",
    "def get_model(train_x, train_y, state_dict=None, debug=False):\n",
    "    gp  = SingleTaskGP(train_x, train_y)\n",
    "    if debug:\n",
    "        print(\"Prior hyperparams lengthscale & noise: {}, {}\".format(gp.covar_module.base_kernel.lengthscale.item(), gp.likelihood.noise.item()))\n",
    "    mll = ExactMarginalLogLikelihood(gp.likelihood, gp)\n",
    "    if state_dict is not None:\n",
    "        gp.load_state_dict(state_dict) # speeds up fit\n",
    "    fit_gpytorch_model(mll) # performs the hyperparam fit\n",
    "    if debug:\n",
    "        print(\"Post hyperparams lengthscale & noise:  {}, {}\".format(gp.covar_module.base_kernel.lengthscale.item(), gp.likelihood.noise.item()))\n",
    "    return gp, mll"
   ]
  },
  {
   "cell_type": "markdown",
   "id": "d12b20a1",
   "metadata": {},
   "source": [
    "### Target Function\n",
    "The function we would like to maximize.\n",
    "\n"
   ]
  },
  {
   "cell_type": "code",
   "execution_count": 3,
   "id": "e504ba15",
   "metadata": {},
   "outputs": [],
   "source": [
    "def target(x):\n",
    "    return torch.exp(-(x - 2)**2) + torch.exp(-(x - 6)**2/10) + 1/ (x**2 + 1)\n"
   ]
  },
  {
   "cell_type": "markdown",
   "id": "7c37b1dd",
   "metadata": {},
   "source": [
    "### Random Init\n",
    "Randomly sample search space to warm up Gaussian Process"
   ]
  },
  {
   "cell_type": "code",
   "execution_count": 4,
   "id": "72724a1c",
   "metadata": {},
   "outputs": [
    {
     "name": "stdout",
     "output_type": "stream",
     "text": [
      "Prior hyperparams lengthscale & noise: 0.6931471824645996, 2.000000476837158\n",
      "Post hyperparams lengthscale & noise:  0.30493125319480896, 0.004062082152813673\n",
      "Prior hyperparams lengthscale & noise: 0.6931471824645996, 2.000000476837158\n",
      "Post hyperparams lengthscale & noise:  0.30493125319480896, 0.004062082152813673\n"
     ]
    }
   ],
   "source": [
    "# random start\n",
    "train_x = torch.FloatTensor(4, 1).uniform_(-2., 10.)\n",
    "\n",
    "# train_x   = torch.tensor([[3.109], [7.775]])\n",
    "train_obj = target(train_x)\n",
    "model, mll = get_model(train_x, train_obj,debug=True)\n",
    "\n",
    "train_x_explore = torch.clone(train_x)\n",
    "train_obj_explore = torch.clone(train_obj)\n",
    "model_explore, mll_explore = get_model(train_x, train_obj,debug=True)"
   ]
  },
  {
   "cell_type": "markdown",
   "id": "cddaf7ee",
   "metadata": {},
   "source": [
    "### Plot Target\n",
    "We can see that the max is at ."
   ]
  },
  {
   "cell_type": "code",
   "execution_count": 7,
   "id": "51110191",
   "metadata": {},
   "outputs": [
    {
     "data": {
      "image/png": "[encoded data removed]",
      "text/plain": [
       "<Figure size 460.8x403.2 with 1 Axes>"
      ]
     },
     "metadata": {},
     "output_type": "display_data"
    }
   ],
   "source": [
    "x = torch.linspace(-2, 10, 10000).reshape(-1, 1)\n",
    "y = target(x)\n",
    "\n",
    "plt.plot(x, y);"
   ]
  },
  {
   "cell_type": "markdown",
   "id": "21b8d9c6",
   "metadata": {},
   "source": [
    "The following function finds the maximum of the Acquisition Function. (only used for plotting purposes)\n",
    "\n"
   ]
  },
  {
   "cell_type": "code",
   "execution_count": 8,
   "id": "d1667305",
   "metadata": {},
   "outputs": [],
   "source": [
    "def get_max(model,beta):\n",
    "    UCB      = UpperConfidenceBound(model=model, beta=beta)\n",
    "    new_point_analytic, acq_value_list = optimize_acqf(\n",
    "                acq_function=UCB,\n",
    "                bounds=torch.tensor([[-2.], [10.]]),\n",
    "                q=1,\n",
    "                num_restarts=20,\n",
    "                raw_samples=10000,\n",
    "                options={},\n",
    "                return_best_only=True,\n",
    "                sequential=False\n",
    "    )\n",
    "    return new_point_analytic, acq_value_list"
   ]
  },
  {
   "cell_type": "markdown",
   "id": "d217601b",
   "metadata": {},
   "source": [
    "### One Step of Bayes Opt\n",
    "step probes a single query point (chosen by the acquisition function) and updates the GP."
   ]
  },
  {
   "cell_type": "code",
   "execution_count": null,
   "id": "f9d1a2c6",
   "metadata": {},
   "outputs": [],
   "source": [
    "def step(model, mll, train_x, train_obj, beta=5.):\n",
    "    # optimize acquisition function\n",
    "    UCB      = UpperConfidenceBound(model=model, beta=beta)\n",
    "    new_point_analytic, acq_value_list = optimize_acqf(\n",
    "                acq_function=UCB,\n",
    "                bounds=torch.tensor([[-2.], [10.]]),\n",
    "                q=1,\n",
    "                num_restarts=20,\n",
    "                raw_samples=10000,\n",
    "                options={},\n",
    "                return_best_only=True,\n",
    "                sequential=False\n",
    "    )\n",
    "    smth      = target(new_point_analytic)\n",
    "    train_obj = torch.cat([smth, train_obj])\n",
    "    train_x   = torch.cat([new_point_analytic, train_x])\n",
    "\n",
    "    model, mll = get_model(train_x, train_obj, model.state_dict())\n",
    "    return model, mll, train_x, train_obj"
   ]
  }
 ],
 "metadata": {
  "kernelspec": {
   "display_name": "Python [conda env:gp_learn] *",
   "language": "python",
   "name": "conda-env-gp_learn-py"
  },
  "language_info": {
   "codemirror_mode": {
    "name": "ipython",
    "version": 3
   },
   "file_extension": ".py",
   "mimetype": "text/x-python",
   "name": "python",
   "nbconvert_exporter": "python",
   "pygments_lexer": "ipython3",
   "version": "3.8.12"
  }
 },
 "nbformat": 4,
 "nbformat_minor": 5
}
